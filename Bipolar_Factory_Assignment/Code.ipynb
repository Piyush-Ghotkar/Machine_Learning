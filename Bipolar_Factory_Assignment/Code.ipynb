{
 "cells": [
  {
   "cell_type": "markdown",
   "metadata": {},
   "source": [
    "## Crawl popular websites & create a database of Indian movie celebrities containing their images and personality traits"
   ]
  },
  {
   "cell_type": "code",
   "execution_count": 1,
   "metadata": {
    "collapsed": false
   },
   "outputs": [],
   "source": [
    "import requests\n",
    "import bs4 as bs\n",
    "import urllib.request"
   ]
  },
  {
   "cell_type": "code",
   "execution_count": 2,
   "metadata": {
    "collapsed": true
   },
   "outputs": [],
   "source": [
    "url1=\"https://www.imdb.com/list/ls068010962/\"  #Top 200 Best Indian Actors and Actresses-page1\n",
    "url2=\"https://www.imdb.com/list/ls068010962/?sort=list_order,asc&mode=detail&page=2\"  #Top 200 Best Indian Actors and Actresses-page2\n",
    "url3=\"https://www.imdb.com/list/ls073889754/\" #New Bollywood Actors and Actresses\n",
    "url4=\"https://www.imdb.com/list/ls025928763/\" #A List of Bollywood Actress"
   ]
  },
  {
   "cell_type": "code",
   "execution_count": 3,
   "metadata": {
    "collapsed": false
   },
   "outputs": [],
   "source": [
    "opener=urllib.request.build_opener()\n",
    "opener.add_handler= [{'User-Agent':'Mozilla'}]\n",
    "urllib.request.install_opener(opener)"
   ]
  },
  {
   "cell_type": "code",
   "execution_count": 4,
   "metadata": {
    "collapsed": false
   },
   "outputs": [],
   "source": [
    "raw1=requests.get(url1).text\n",
    "raw2=requests.get(url2).text\n",
    "raw3=requests.get(url3).text\n",
    "raw4=requests.get(url4).text\n",
    "soup1 = bs.BeautifulSoup(raw1, 'html.parser')\n",
    "soup2 = bs.BeautifulSoup(raw2, 'html.parser')\n",
    "soup3 = bs.BeautifulSoup(raw3, 'html.parser')\n",
    "soup4 = bs.BeautifulSoup(raw4, 'html.parser')"
   ]
  },
  {
   "cell_type": "code",
   "execution_count": 5,
   "metadata": {
    "collapsed": true
   },
   "outputs": [],
   "source": [
    "imgs=soup1.find_all('img',alt=True)\n",
    "imgs+=soup2.find_all('img',alt=True)\n",
    "imgs+=soup3.find_all('img',alt=True)\n",
    "imgs+=soup4.find_all('img',alt=True)"
   ]
  },
  {
   "cell_type": "code",
   "execution_count": 6,
   "metadata": {
    "collapsed": false
   },
   "outputs": [],
   "source": [
    "links=[]\n",
    "\n",
    "for img in imgs:\n",
    "    link = img.get('src')\n",
    "    links.append(link)"
   ]
  },
  {
   "cell_type": "code",
   "execution_count": 7,
   "metadata": {
    "collapsed": false
   },
   "outputs": [
    {
     "name": "stdout",
     "output_type": "stream",
     "text": [
      "Total Images detected 347\n",
      "Unique Images detected 290\n"
     ]
    }
   ],
   "source": [
    "print('Total Images detected '+str(len(links)))\n",
    "print('Unique Images detected '+str(len(list(set(links)))))"
   ]
  },
  {
   "cell_type": "code",
   "execution_count": 9,
   "metadata": {
    "collapsed": false
   },
   "outputs": [],
   "source": [
    "for i in range (len(links)):\n",
    "    filename = 'Crawled_img_Database/{}.png'.format(imgs[i]['alt'])\n",
    "    urllib.request.urlretrieve(links[i], filename)"
   ]
  },
  {
   "cell_type": "markdown",
   "metadata": {},
   "source": [
    "### I have crawled popular websites & created a database of Indian movie celebrities containing their images, but at the moment I'm not able to crawl personality traits"
   ]
  }
 ],
 "metadata": {
  "kernelspec": {
   "display_name": "Python 3",
   "language": "python",
   "name": "python3"
  },
  "language_info": {
   "codemirror_mode": {
    "name": "ipython",
    "version": 3
   },
   "file_extension": ".py",
   "mimetype": "text/x-python",
   "name": "python",
   "nbconvert_exporter": "python",
   "pygments_lexer": "ipython3",
   "version": "3.6.0"
  }
 },
 "nbformat": 4,
 "nbformat_minor": 2
}
