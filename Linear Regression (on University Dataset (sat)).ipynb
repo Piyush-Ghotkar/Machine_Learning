{
 "cells": [
  {
   "cell_type": "markdown",
   "metadata": {},
   "source": [
    "Name: Piyush Ghotkar            Roll No. 58"
   ]
  },
  {
   "cell_type": "markdown",
   "metadata": {},
   "source": [
    "# Q1"
   ]
  },
  {
   "cell_type": "code",
   "execution_count": 1,
   "metadata": {
    "collapsed": true
   },
   "outputs": [],
   "source": [
    "import matplotlib\n",
    "import matplotlib.pyplot as plt\n",
    "import pandas as pd\n",
    "from sklearn import linear_model\n",
    "import numpy as np\n",
    "df=pd.read_csv(\"sat.csv\")"
   ]
  },
  {
   "cell_type": "code",
   "execution_count": 2,
   "metadata": {
    "collapsed": false
   },
   "outputs": [
    {
     "data": {
      "image/png": "[encoded data removed]",
      "text/plain": [
       "<matplotlib.figure.Figure at 0x217156fbcc0>"
      ]
     },
     "metadata": {},
     "output_type": "display_data"
    }
   ],
   "source": [
    "x=df['high_GPA']\n",
    "y=df['univ_GPA']\n",
    "plt.scatter(x, y,  color='black')\n",
    "plt.xlabel('high_GPA')\n",
    "plt.ylabel('univ_GPA')\n",
    "plt.show()"
   ]
  },
  {
   "cell_type": "markdown",
   "metadata": {},
   "source": [
    "Ans= Since the slope is positive, relation is linear and corr is nearer to 1"
   ]
  },
  {
   "cell_type": "markdown",
   "metadata": {},
   "source": [
    "# Q2. Correlation between high school GPA and overall university GPA"
   ]
  },
  {
   "cell_type": "code",
   "execution_count": 3,
   "metadata": {
    "collapsed": false
   },
   "outputs": [
    {
     "data": {
      "text/html": [
       "<div>\n",
       "<table border=\"1\" class=\"dataframe\">\n",
       "  <thead>\n",
       "    <tr style=\"text-align: right;\">\n",
       "      <th></th>\n",
       "      <th>high_GPA</th>\n",
       "      <th>univ_GPA</th>\n",
       "    </tr>\n",
       "  </thead>\n",
       "  <tbody>\n",
       "    <tr>\n",
       "      <th>high_GPA</th>\n",
       "      <td>1.000000</td>\n",
       "      <td>0.779563</td>\n",
       "    </tr>\n",
       "    <tr>\n",
       "      <th>univ_GPA</th>\n",
       "      <td>0.779563</td>\n",
       "      <td>1.000000</td>\n",
       "    </tr>\n",
       "  </tbody>\n",
       "</table>\n",
       "</div>"
      ],
      "text/plain": [
       "          high_GPA  univ_GPA\n",
       "high_GPA  1.000000  0.779563\n",
       "univ_GPA  0.779563  1.000000"
      ]
     },
     "execution_count": 3,
     "metadata": {},
     "output_type": "execute_result"
    }
   ],
   "source": [
    "df[['high_GPA','univ_GPA']].corr()"
   ]
  },
  {
   "cell_type": "markdown",
   "metadata": {},
   "source": [
    "# Q3."
   ]
  },
  {
   "cell_type": "code",
   "execution_count": 18,
   "metadata": {
    "collapsed": false
   },
   "outputs": [],
   "source": [
    "\n",
    "x=df[['high_GPA']]\n",
    "y=df[['univ_GPA']]\n",
    "#regression uses 2d array thats why two brakets"
   ]
  },
  {
   "cell_type": "code",
   "execution_count": 19,
   "metadata": {
    "collapsed": true
   },
   "outputs": [],
   "source": [
    "reg = linear_model.LinearRegression()"
   ]
  },
  {
   "cell_type": "code",
   "execution_count": 20,
   "metadata": {
    "collapsed": false
   },
   "outputs": [
    {
     "data": {
      "text/plain": [
       "LinearRegression(copy_X=True, fit_intercept=True, n_jobs=1, normalize=False)"
      ]
     },
     "execution_count": 20,
     "metadata": {},
     "output_type": "execute_result"
    }
   ],
   "source": [
    "reg.fit(x,y)"
   ]
  },
  {
   "cell_type": "code",
   "execution_count": 24,
   "metadata": {
    "collapsed": false
   },
   "outputs": [
    {
     "name": "stdout",
     "output_type": "stream",
     "text": [
      "Slope= [[0.6748299]]\n",
      "y-intercetp= [1.09682328]\n"
     ]
    }
   ],
   "source": [
    "print(\"Slope=\",reg.coef_,)\n",
    "print(\"y-intercept=\",reg.intercept_)"
   ]
  },
  {
   "cell_type": "code",
   "execution_count": 31,
   "metadata": {
    "collapsed": false
   },
   "outputs": [
    {
     "name": "stdout",
     "output_type": "stream",
     "text": [
      "If someone had a 2.2 GPA in high school, then collage GPA= [[2.58144907]]\n",
      "If someone had a 4.0 GPA in high school, then collage GPA= [[3.7961429]]\n"
     ]
    }
   ],
   "source": [
    "print(\"If someone had a 2.2 GPA in high school, then collage GPA=\",reg.predict(2.2))\n",
    "print(\"If someone had a 4.0 GPA in high school, then collage GPA=\",reg.predict(4.0))"
   ]
  },
  {
   "cell_type": "code",
   "execution_count": null,
   "metadata": {
    "collapsed": true
   },
   "outputs": [],
   "source": []
  },
  {
   "cell_type": "markdown",
   "metadata": {},
   "source": [
    "# Q4. mean math and verbal SAT score"
   ]
  },
  {
   "cell_type": "code",
   "execution_count": 37,
   "metadata": {
    "collapsed": false
   },
   "outputs": [
    {
     "name": "stdout",
     "output_type": "stream",
     "text": [
      "Mean of math_SAT= 623.0761904761905\n",
      "Mean of verb_SAT= 598.6\n"
     ]
    }
   ],
   "source": [
    "print(\"Mean of math_SAT=\",df['math_SAT'].mean())\n",
    "print(\"Mean of verb_SAT=\",df['verb_SAT'].mean())"
   ]
  },
  {
   "cell_type": "markdown",
   "metadata": {},
   "source": [
    "# Q5. standard deviations of the math and verbal SAT scores"
   ]
  },
  {
   "cell_type": "code",
   "execution_count": 39,
   "metadata": {
    "collapsed": false
   },
   "outputs": [
    {
     "name": "stdout",
     "output_type": "stream",
     "text": [
      "standard deviation of math_SAT= 53.76045430319993\n",
      "standard deviation of verb_SAT= 62.96360365016748\n"
     ]
    }
   ],
   "source": [
    "print(\"standard deviation of math_SAT=\",df['math_SAT'].std())\n",
    "print(\"standard deviation of verb_SAT=\",df['verb_SAT'].std())"
   ]
  },
  {
   "cell_type": "markdown",
   "metadata": {},
   "source": [
    "# Q6. correlation between math and verbal SAT scores"
   ]
  },
  {
   "cell_type": "code",
   "execution_count": 42,
   "metadata": {
    "collapsed": false
   },
   "outputs": [
    {
     "data": {
      "image/png": "[encoded data removed]",
      "text/plain": [
       "<matplotlib.figure.Figure at 0x18d377453c8>"
      ]
     },
     "metadata": {},
     "output_type": "display_data"
    }
   ],
   "source": [
    "plt.scatter(df['math_SAT'],df['verb_SAT'],color='black')\n",
    "plt.show()"
   ]
  },
  {
   "cell_type": "markdown",
   "metadata": {},
   "source": [
    "From the above graph we can assume that slope is be positive"
   ]
  },
  {
   "cell_type": "code",
   "execution_count": 47,
   "metadata": {
    "collapsed": false
   },
   "outputs": [
    {
     "name": "stdout",
     "output_type": "stream",
     "text": [
      "Correlation bet math and verbal SAT\n"
     ]
    },
    {
     "data": {
      "text/html": [
       "<div>\n",
       "<table border=\"1\" class=\"dataframe\">\n",
       "  <thead>\n",
       "    <tr style=\"text-align: right;\">\n",
       "      <th></th>\n",
       "      <th>math_SAT</th>\n",
       "      <th>verb_SAT</th>\n",
       "    </tr>\n",
       "  </thead>\n",
       "  <tbody>\n",
       "    <tr>\n",
       "      <th>math_SAT</th>\n",
       "      <td>1.000000</td>\n",
       "      <td>0.835227</td>\n",
       "    </tr>\n",
       "    <tr>\n",
       "      <th>verb_SAT</th>\n",
       "      <td>0.835227</td>\n",
       "      <td>1.000000</td>\n",
       "    </tr>\n",
       "  </tbody>\n",
       "</table>\n",
       "</div>"
      ],
      "text/plain": [
       "          math_SAT  verb_SAT\n",
       "math_SAT  1.000000  0.835227\n",
       "verb_SAT  0.835227  1.000000"
      ]
     },
     "execution_count": 47,
     "metadata": {},
     "output_type": "execute_result"
    }
   ],
   "source": [
    "print(\"Correlation bet math and verbal SAT\")\n",
    "df[['math_SAT','verb_SAT']].corr()"
   ]
  },
  {
   "cell_type": "markdown",
   "metadata": {},
   "source": [
    "#  Q7. correlation between the students' overall university GPAs and their computer science GPAs"
   ]
  },
  {
   "cell_type": "code",
   "execution_count": 52,
   "metadata": {
    "collapsed": false
   },
   "outputs": [
    {
     "name": "stdout",
     "output_type": "stream",
     "text": [
      "Correlation bet overall university GPAs and their computer science GPAsT\n"
     ]
    },
    {
     "data": {
      "text/html": [
       "<div>\n",
       "<table border=\"1\" class=\"dataframe\">\n",
       "  <thead>\n",
       "    <tr style=\"text-align: right;\">\n",
       "      <th></th>\n",
       "      <th>univ_GPA</th>\n",
       "      <th>comp_GPA</th>\n",
       "    </tr>\n",
       "  </thead>\n",
       "  <tbody>\n",
       "    <tr>\n",
       "      <th>univ_GPA</th>\n",
       "      <td>1.000000</td>\n",
       "      <td>0.939046</td>\n",
       "    </tr>\n",
       "    <tr>\n",
       "      <th>comp_GPA</th>\n",
       "      <td>0.939046</td>\n",
       "      <td>1.000000</td>\n",
       "    </tr>\n",
       "  </tbody>\n",
       "</table>\n",
       "</div>"
      ],
      "text/plain": [
       "          univ_GPA  comp_GPA\n",
       "univ_GPA  1.000000  0.939046\n",
       "comp_GPA  0.939046  1.000000"
      ]
     },
     "execution_count": 52,
     "metadata": {},
     "output_type": "execute_result"
    }
   ],
   "source": [
    "print(\"Correlation bet overall university GPAs and their computer science GPAsT\")\n",
    "df[['univ_GPA','comp_GPA']].corr()"
   ]
  },
  {
   "cell_type": "markdown",
   "metadata": {},
   "source": [
    "# Q8.\n"
   ]
  },
  {
   "cell_type": "code",
   "execution_count": 55,
   "metadata": {
    "collapsed": false
   },
   "outputs": [
    {
     "name": "stdout",
     "output_type": "stream",
     "text": [
      "Highest overall GPA is 3.81\n",
      "Highest computer science GPAs is 4.0\n"
     ]
    }
   ],
   "source": [
    "print(\"Highest overall GPAs is\",df['univ_GPA'].max())\n",
    "print(\"Highest computer science GPAs is\",df['comp_GPA'].max())"
   ]
  },
  {
   "cell_type": "markdown",
   "metadata": {},
   "source": [
    "Ans= students have higher GPAs in their computer science classes than overall GPAs"
   ]
  },
  {
   "cell_type": "code",
   "execution_count": 57,
   "metadata": {
    "collapsed": false
   },
   "outputs": [
    {
     "name": "stdout",
     "output_type": "stream",
     "text": [
      "mean of overall GPAs is 3.1728571428571417\n",
      "mean of computer science GPAs is 3.127999999999998\n"
     ]
    }
   ],
   "source": [
    "print(\"mean of overall GPAs is\",df['univ_GPA'].mean())\n",
    "print(\"mean of computer science GPAs is\",df['comp_GPA'].mean())"
   ]
  },
  {
   "cell_type": "code",
   "execution_count": null,
   "metadata": {
    "collapsed": true
   },
   "outputs": [],
   "source": []
  }
 ],
 "metadata": {
  "kernelspec": {
   "display_name": "Python 3",
   "language": "python",
   "name": "python3"
  },
  "language_info": {
   "codemirror_mode": {
    "name": "ipython",
    "version": 3
   },
   "file_extension": ".py",
   "mimetype": "text/x-python",
   "name": "python",
   "nbconvert_exporter": "python",
   "pygments_lexer": "ipython3",
   "version": "3.6.0"
  }
 },
 "nbformat": 4,
 "nbformat_minor": 2
}
